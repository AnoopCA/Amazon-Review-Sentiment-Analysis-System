{
 "cells": [
  {
   "cell_type": "markdown",
   "metadata": {},
   "source": [
    "### This notebook preprocess the Amazon Review Dataset for sentiment analysis model training"
   ]
  },
  {
   "cell_type": "code",
   "execution_count": 1,
   "metadata": {},
   "outputs": [],
   "source": [
    "# Import necessary libraries\n",
    "import pandas as pd\n",
    "import matplotlib.pyplot as plt\n",
    "import re"
   ]
  },
  {
   "cell_type": "code",
   "execution_count": 2,
   "metadata": {},
   "outputs": [],
   "source": [
    "# Review Reviews dataset\n",
    "df = pd.read_csv(r\"D:\\ML_Projects\\Amazon-Review-Sentiment-Analysis-System\\Data\\amazon_reviews.csv\")"
   ]
  },
  {
   "cell_type": "code",
   "execution_count": 3,
   "metadata": {},
   "outputs": [
    {
     "data": {
      "text/html": [
       "<div>\n",
       "<style scoped>\n",
       "    .dataframe tbody tr th:only-of-type {\n",
       "        vertical-align: middle;\n",
       "    }\n",
       "\n",
       "    .dataframe tbody tr th {\n",
       "        vertical-align: top;\n",
       "    }\n",
       "\n",
       "    .dataframe thead th {\n",
       "        text-align: right;\n",
       "    }\n",
       "</style>\n",
       "<table border=\"1\" class=\"dataframe\">\n",
       "  <thead>\n",
       "    <tr style=\"text-align: right;\">\n",
       "      <th></th>\n",
       "      <th>ProfileName</th>\n",
       "      <th>Summary</th>\n",
       "      <th>Text</th>\n",
       "      <th>Score</th>\n",
       "    </tr>\n",
       "  </thead>\n",
       "  <tbody>\n",
       "    <tr>\n",
       "      <th>0</th>\n",
       "      <td>delmartian</td>\n",
       "      <td>Good Quality Dog Food</td>\n",
       "      <td>I have bought several of the Vitality canned d...</td>\n",
       "      <td>5</td>\n",
       "    </tr>\n",
       "    <tr>\n",
       "      <th>1</th>\n",
       "      <td>dll pa</td>\n",
       "      <td>Not as Advertised</td>\n",
       "      <td>Product arrived labeled as Jumbo Salted Peanut...</td>\n",
       "      <td>1</td>\n",
       "    </tr>\n",
       "    <tr>\n",
       "      <th>2</th>\n",
       "      <td>Natalia Corres \"Natalia Corres\"</td>\n",
       "      <td>\"Delight\" says it all</td>\n",
       "      <td>This is a confection that has been around a fe...</td>\n",
       "      <td>4</td>\n",
       "    </tr>\n",
       "    <tr>\n",
       "      <th>3</th>\n",
       "      <td>Karl</td>\n",
       "      <td>Cough Medicine</td>\n",
       "      <td>If you are looking for the secret ingredient i...</td>\n",
       "      <td>2</td>\n",
       "    </tr>\n",
       "    <tr>\n",
       "      <th>4</th>\n",
       "      <td>Michael D. Bigham \"M. Wassir\"</td>\n",
       "      <td>Great taffy</td>\n",
       "      <td>Great taffy at a great price.  There was a wid...</td>\n",
       "      <td>5</td>\n",
       "    </tr>\n",
       "  </tbody>\n",
       "</table>\n",
       "</div>"
      ],
      "text/plain": [
       "                       ProfileName                Summary  \\\n",
       "0                       delmartian  Good Quality Dog Food   \n",
       "1                           dll pa      Not as Advertised   \n",
       "2  Natalia Corres \"Natalia Corres\"  \"Delight\" says it all   \n",
       "3                             Karl         Cough Medicine   \n",
       "4    Michael D. Bigham \"M. Wassir\"            Great taffy   \n",
       "\n",
       "                                                Text  Score  \n",
       "0  I have bought several of the Vitality canned d...      5  \n",
       "1  Product arrived labeled as Jumbo Salted Peanut...      1  \n",
       "2  This is a confection that has been around a fe...      4  \n",
       "3  If you are looking for the secret ingredient i...      2  \n",
       "4  Great taffy at a great price.  There was a wid...      5  "
      ]
     },
     "execution_count": 3,
     "metadata": {},
     "output_type": "execute_result"
    }
   ],
   "source": [
    "df.head()"
   ]
  },
  {
   "cell_type": "code",
   "execution_count": 4,
   "metadata": {},
   "outputs": [
    {
     "name": "stdout",
     "output_type": "stream",
     "text": [
      "Total number of reviews: 568430\n"
     ]
    }
   ],
   "source": [
    "print(f\"Total number of reviews: {len(df['Text'])}\")"
   ]
  },
  {
   "cell_type": "code",
   "execution_count": 5,
   "metadata": {},
   "outputs": [
    {
     "name": "stdout",
     "output_type": "stream",
     "text": [
      "Unique class labels for review scores: [5 1 4 2 3]\n"
     ]
    }
   ],
   "source": [
    "print(f\"Unique class labels for review scores: {df['Score'].unique()}\")"
   ]
  },
  {
   "cell_type": "code",
   "execution_count": 6,
   "metadata": {},
   "outputs": [
    {
     "name": "stdout",
     "output_type": "stream",
     "text": [
      "Review scores occurrence percentage:\n",
      " Score\n",
      "1     9.193920\n",
      "2     5.237056\n",
      "3     7.501363\n",
      "4    14.188730\n",
      "5    63.878930\n",
      "dtype: float64\n"
     ]
    }
   ],
   "source": [
    "print(f\"Review scores occurrence percentage:\\n {df.groupby('Score').size() / len(df) * 100}\")"
   ]
  },
  {
   "cell_type": "code",
   "execution_count": 7,
   "metadata": {},
   "outputs": [],
   "source": [
    "df['Text_Length'] = df['Text'].map(lambda l: len(l.split()))"
   ]
  },
  {
   "cell_type": "code",
   "execution_count": 8,
   "metadata": {},
   "outputs": [
    {
     "data": {
      "text/html": [
       "<div>\n",
       "<style scoped>\n",
       "    .dataframe tbody tr th:only-of-type {\n",
       "        vertical-align: middle;\n",
       "    }\n",
       "\n",
       "    .dataframe tbody tr th {\n",
       "        vertical-align: top;\n",
       "    }\n",
       "\n",
       "    .dataframe thead th {\n",
       "        text-align: right;\n",
       "    }\n",
       "</style>\n",
       "<table border=\"1\" class=\"dataframe\">\n",
       "  <thead>\n",
       "    <tr style=\"text-align: right;\">\n",
       "      <th></th>\n",
       "      <th>ProfileName</th>\n",
       "      <th>Summary</th>\n",
       "      <th>Text</th>\n",
       "      <th>Score</th>\n",
       "      <th>Text_Length</th>\n",
       "    </tr>\n",
       "  </thead>\n",
       "  <tbody>\n",
       "    <tr>\n",
       "      <th>0</th>\n",
       "      <td>delmartian</td>\n",
       "      <td>Good Quality Dog Food</td>\n",
       "      <td>I have bought several of the Vitality canned d...</td>\n",
       "      <td>5</td>\n",
       "      <td>48</td>\n",
       "    </tr>\n",
       "    <tr>\n",
       "      <th>1</th>\n",
       "      <td>dll pa</td>\n",
       "      <td>Not as Advertised</td>\n",
       "      <td>Product arrived labeled as Jumbo Salted Peanut...</td>\n",
       "      <td>1</td>\n",
       "      <td>31</td>\n",
       "    </tr>\n",
       "    <tr>\n",
       "      <th>2</th>\n",
       "      <td>Natalia Corres \"Natalia Corres\"</td>\n",
       "      <td>\"Delight\" says it all</td>\n",
       "      <td>This is a confection that has been around a fe...</td>\n",
       "      <td>4</td>\n",
       "      <td>94</td>\n",
       "    </tr>\n",
       "    <tr>\n",
       "      <th>3</th>\n",
       "      <td>Karl</td>\n",
       "      <td>Cough Medicine</td>\n",
       "      <td>If you are looking for the secret ingredient i...</td>\n",
       "      <td>2</td>\n",
       "      <td>41</td>\n",
       "    </tr>\n",
       "    <tr>\n",
       "      <th>4</th>\n",
       "      <td>Michael D. Bigham \"M. Wassir\"</td>\n",
       "      <td>Great taffy</td>\n",
       "      <td>Great taffy at a great price.  There was a wid...</td>\n",
       "      <td>5</td>\n",
       "      <td>27</td>\n",
       "    </tr>\n",
       "  </tbody>\n",
       "</table>\n",
       "</div>"
      ],
      "text/plain": [
       "                       ProfileName                Summary  \\\n",
       "0                       delmartian  Good Quality Dog Food   \n",
       "1                           dll pa      Not as Advertised   \n",
       "2  Natalia Corres \"Natalia Corres\"  \"Delight\" says it all   \n",
       "3                             Karl         Cough Medicine   \n",
       "4    Michael D. Bigham \"M. Wassir\"            Great taffy   \n",
       "\n",
       "                                                Text  Score  Text_Length  \n",
       "0  I have bought several of the Vitality canned d...      5           48  \n",
       "1  Product arrived labeled as Jumbo Salted Peanut...      1           31  \n",
       "2  This is a confection that has been around a fe...      4           94  \n",
       "3  If you are looking for the secret ingredient i...      2           41  \n",
       "4  Great taffy at a great price.  There was a wid...      5           27  "
      ]
     },
     "execution_count": 8,
     "metadata": {},
     "output_type": "execute_result"
    }
   ],
   "source": [
    "df.head()"
   ]
  },
  {
   "cell_type": "code",
   "execution_count": 9,
   "metadata": {},
   "outputs": [
    {
     "name": "stdout",
     "output_type": "stream",
     "text": [
      "Least number of words \t\t:  3\n",
      "Most number of words \t\t:  3432\n",
      "Median of number of words \t:  56.0\n",
      "Mean of number of words \t:  80.26340270569816\n"
     ]
    }
   ],
   "source": [
    "print(f\"Least number of words \\t\\t:  {df['Text_Length'].min()}\")\n",
    "print(f\"Most number of words \\t\\t:  {df['Text_Length'].max()}\")\n",
    "print(f\"Median of number of words \\t:  {df['Text_Length'].median()}\")\n",
    "print(f\"Mean of number of words \\t:  {df['Text_Length'].mean()}\")"
   ]
  },
  {
   "cell_type": "code",
   "execution_count": 10,
   "metadata": {},
   "outputs": [
    {
     "data": {
      "image/png": "[encoded data removed]",
      "text/plain": [
       "<Figure size 640x480 with 1 Axes>"
      ]
     },
     "metadata": {},
     "output_type": "display_data"
    }
   ],
   "source": [
    "plt.hist(df['Text_Length'], bins=500)\n",
    "plt.title(\"Distribution of Text Lengths\")\n",
    "plt.xlabel(\"Text Length\")\n",
    "plt.ylabel(\"Frequency\")\n",
    "plt.show()"
   ]
  },
  {
   "cell_type": "code",
   "execution_count": 28,
   "metadata": {},
   "outputs": [
    {
     "name": "stdout",
     "output_type": "stream",
     "text": [
      "Count of reviews with 'Text_Length' less than 20% of the mean:  7549\n",
      "Proportion of reviews with 'Text_Length' greater than 20% of the mean:  0.9867195608958007\n",
      "Maximum 'Text_Length' among reviews with 'Text_Length' less than 20% of the mean:  16\n",
      "Count of reviews with 'Text_Length' greater than 160% of the mean:  89695\n",
      "Proportion of reviews with 'Text_Length' greater than 160% of the mean:  0.15779427546047886\n",
      "Minimum 'Text_Length' among reviews with 'Text_Length' greater than 160% of the mean:  129\n"
     ]
    }
   ],
   "source": [
    "ln_min = 0.2\n",
    "print(\"Count of reviews with 'Text_Length' less than 20% of the mean: \",\n",
    "      len(df[df['Text_Length'] < df['Text_Length'].mean()*ln_min]))\n",
    "print(\"Proportion of reviews with 'Text_Length' greater than 20% of the mean: \",\n",
    "      len(df[df['Text_Length'] > df['Text_Length'].mean()*ln_min])/len(df))\n",
    "print(\"Maximum 'Text_Length' among reviews with 'Text_Length' less than 20% of the mean: \",\n",
    "      df[df['Text_Length'] < df['Text_Length'].mean()*ln_min]['Text_Length'].max())\n",
    "\n",
    "ln_max = 1.6\n",
    "print(\"Count of reviews with 'Text_Length' greater than 160% of the mean: \", \n",
    "      len(df[df['Text_Length'] > df['Text_Length'].mean()*ln_max]))\n",
    "print(\"Proportion of reviews with 'Text_Length' greater than 160% of the mean: \",\n",
    "      len(df[df['Text_Length'] > df['Text_Length'].mean()*ln_max])/len(df))\n",
    "print(\"Minimum 'Text_Length' among reviews with 'Text_Length' greater than 160% of the mean: \", \n",
    "      df[df['Text_Length'] > df['Text_Length'].mean()*ln_max]['Text_Length'].min())"
   ]
  },
  {
   "cell_type": "code",
   "execution_count": 12,
   "metadata": {},
   "outputs": [
    {
     "data": {
      "image/png": "[encoded data removed]",
      "text/plain": [
       "<Figure size 640x480 with 1 Axes>"
      ]
     },
     "metadata": {},
     "output_type": "display_data"
    }
   ],
   "source": [
    "text_len = df[(df['Text_Length'] > df['Text_Length'].mean()*0.2) & (df['Text_Length'] < df['Text_Length'].mean()*1.59)]\n",
    "plt.hist(text_len['Text_Length'], bins=200)\n",
    "plt.title(\"Distribution of Text Lengths\")\n",
    "plt.xlabel(\"Text Length\")\n",
    "plt.ylabel(\"Frequency\")\n",
    "plt.show()"
   ]
  },
  {
   "cell_type": "code",
   "execution_count": 13,
   "metadata": {},
   "outputs": [
    {
     "name": "stdout",
     "output_type": "stream",
     "text": [
      "Number of unique words in the dataset: 244901\n"
     ]
    }
   ],
   "source": [
    "words = set(\" \".join(df['Text']).split())\n",
    "words_with_special_chars = [word for word in words if len(re.findall(r'[^\\w\\s]', word)) > 1]\n",
    "print(f\"Number of unique words in the dataset: {len(words_with_special_chars)}\")"
   ]
  },
  {
   "cell_type": "code",
   "execution_count": 14,
   "metadata": {},
   "outputs": [
    {
     "name": "stdout",
     "output_type": "stream",
     "text": [
      "<span class=\"tiny\"> Length:: 0:26 Mins<br /><br /></span>The expiration date is 21 months from the day I bought this product. The tuna, tomato combination is delicious. This is one of the many items I re-order on Amazon every month or so.<br />edit: added a short video, so you see what this combination looks like.<br /><br />I was wearing one of those headlamps, but I didn't do a good job focusing on the tuna.<br />I should film it over, but it doesn't look like many people view this product anyway.\n",
      "This is a classic ramen choice.  Our kids, 3-6 love this.  When we're RVing, we have a case of this on hand.  A bowl, some water, and 2:30 in the microwave, and we've got our instant meal. We break up the noodles while still sealed in the package.  This helps the kids not make a mess when trying to eat them. They don't seem to tire of these; and we're not overly offended by the nature of the just-add-water-product. We each had our ramen-eating-college-days. These also make a great item to have on hand in a desk drawer for the days you forget your lunch, etc. at work.  Just make sure you have a pack of paper (not styro-save the enviro) bowls and some fork/spoons in that drawer, too.\n",
      "<span class=\"tiny\"> Length:: 1:38 Mins<br /><br /></span>skip the Pad Thai. go for this.<br />edit: this soup has moved up to the #6 spot when I typed in Dr. McDougall today. I'm glad, because I want to order this for a while, and don't want this soup to be seen as unprofitable by Right Foods (Dr. McDougall).\n",
      "MY QUESTION FOLLOWED BY THEIR REPLY - VERY GOOD CUSTOMER SERVICE!!<br /><br />Hey guys,<br />So we are trying to feed a new born as much breast milk as we can, however there is not enough to meet his nutritional needs.<br />So a formula is in order as a supplement. With that, we are interested in your toddler formula, and it appears that since this meets the FDA Infant Formula Guidelines, that it should be safe, (and opinions on the Internet seem to feel the same way). However, our doctor says that it should not be used because of the higher amounts of calcium and phosphorous. He was also concerned about using the DHA/ARA supplement with concerns about the egg white process and that the proteins in egg whites are not good for an infant. Any thoughts on this? Thanks!<br /><br />THEIR ANSWER<br /><br />Dear Dave,<br /><br />Thank you for contacting Nature's One®.  Firstly, you are correct in that our Baby's Only Organic® formulas meet the nutritional requirements of the FDA's Infant Formula Act. No dilution is needed for babies under 12 months of age. Please follow label mixing instructions.<br /><br />Regarding the calcium and phosphorous content in Baby's Only Organic® formulas, calcium is an essential nutrient needed for bone health. The American Academy of Pediatrics Expert Panel for Nutrient Levels in Infant Formula has provided recommendations on the amount of calcium with the minimum per 100 Calories being 50 milligrams and the maximum being 140 milligrams per 100 Calories. Phosphorus is another important mineral for bone health. The Expert Panel has also recommended that the calcium to phosphorus ratio in an infant formula be no less than 1.1 or more than 2.0. Baby's Only Organic® falls within these ranges with our calcium at 135 milligrams per 100 Calories and a calcium to phosphorus ratio of 1.5.<br />Reference: Committee on Nutrition, Pediatric Nutrition Handbook, The American Academy of Pediatrics, 2009, pages 1245-1246.<br /><br />The balance between calcium and phosphorus is most important for bone development. The calcium to phosphorus ratio in both Baby's Only Organic® formula and Enfamil NextStep is 1:5. Thus, Baby's Only Organic® formulas provide an appropriate ratio of calcium and phosphorus for toddlers and an appropriate overall quantity of calcium and phosphorus.<br /><br />Regarding our Baby's Only Essentials® DHA/ARA supplement, The DHA utilized in our Baby's Only Essentials® DHA & ARA supplement is sourced from egg yolk phospholipids. You are probably aware that most often an egg allergy is caused by the egg white rather than the yolk. Additionally, it is the protein component of foods that usually elicit an allergic reaction. Because we use the phospholipids (not protein) from the egg yolk, there is only a very minute chance that an allergic response will ensue.<br /><br />If your child has a history of allergies, we highly recommend that you consult your child's healthcare provider.<br /><br />DHA is also found naturally in other foods, including oily fish like trout, sardines, tuna and salmon and the yolk of eggs. Dietary ARA is available from animal meats, dairy foods, eggs, peanuts and nori seaweed. As your child increases the variety of foods in her diet, you can include some of these foods in her diet. Other natural sources of DHA would include fish oil or fish oil supplements. Unfortunately, it is difficult to insure that these are free from mercury or other environmental toxins. But, also remember that these fatty acids can be formed from dietary linoleic and linolenic acids (nuts, seeds, grains legumes, vegetables and their cold-pressed oils). By including good sources of high quality fats in the diet, your child will easily be able to meet her specific needs<br /><br />Most egg allergies are a result of ingestion of egg white; egg yolk allergies are rare.<br /><br />Proteins are the component of foods that cause allergic reactions. Egg allergy is usually due to the proteins in the egg white. These protein allergens are: ovomucoid, ovalbumin, ovotransferrin; lysozyme, and ovomucin.<br /><br />However, there can be a rare situation of egg yolk allergy. The literature to date usually associates egg yolk allergy to a reaction triggered by inhaled bird allergen, referred to as Bird-egg syndrome. This is a very rare syndrome.<br /><br />Egg allergy can also be seasonal. Oak pollen, short and western ragweed and the goosefoot family of weeds may cross react with eggs when these pollens are in season.<br /><br />The estimated point prevalence of egg allergy in children is 1.6% by 2.5 years of age. (1) Again, egg white is usually the cause of an egg allergy. Most children outgrow an allergy to eggs by 5 years of age.<br /><br /> (1) Eggesbo M, Botten G, Halvorsen R, Magnus P, \"The prevalence of allergy to egg: a population-based study in young children,\" Allergy 56; 5:403<br /><br />I hope this information is helpful to you. Thank you for your interest in Baby's Only Organic® formulas. Please let me know if you have additional questions.<br /><br />Sincerely,<br /><br />Lori<br />Nature's One Inc.<br />[...]<br />[...]<br />Toll Free [...]\n",
      "<span class=\"tiny\"> Length:: 1:00 Mins<br /><br /></span>These cookies are so great! Watch our video to see how great they really are!!!\n",
      "My daughter, living and working in DC this summer, introduced me to this product while home for a visit.  She encouraged me to give the plain version (just pure coconut water) a chance first, and by the second container, I understood the amazing qualities of this drink.  I felt so refreshed, hydrated, and healthy!  I later tried the kind with pineapple, which is also delicious, but I think the plain is more effective and purely refreshing when really hot, tired and thirsty, while the sweeter fruit infused version will be amazing as part of a cocktail.  Can't wait for 5:00!\n",
      "<span class=\"tiny\"> Length:: 0:32 Mins<br /><br /></span>This video demonstrates how to apply a Siliskin to a glass baby food jar.  These Siliskins are designed to fit a variety of glass baby food jars and protect the glass while traveling or storing.  The Siliskin protects the glass jar against dings and bumps while in the diaper bag or tote as well as giving added protection against occasional drops.  The Siliskins can be reused over and over again and are dishwasher, freezer and microwave safe.  Siliskins are also non-toxic and BPA free.<a href=\"http://www.amazon.com/gp/product/B004CVKAI0\">Silikids Siliskins for Glass Baby Food Jars, Aqua/White, 2 Pack</a>\n",
      "I recently gave up my major 20 year Diet Coke addiction.  I did it for a number of reasons.  I typically wake VERY early to hit the gym before work & needed something to help me wake up at 4:30 AM.  This product is GREAT.  No over-stimulation as it only has the caffeine equivalent of 1 cup of jo. It is also SUGAR FREE and has 0 Net Carbs!! I do feel the energy quickly & it lasts the 5 hours it claims.  The berry flavor is pleasant, but tart so I drink some water as a \"chaser\" (no pun intended).  I drink water the rest of the day & only use 1 in the morning unless I have a \"late\" meeting scheduled.\n",
      "<span class=\"tiny\"> Length:: 2:47 Mins<br /><br /></span>Short video review with first open, pour and taste of The Switch Orange Tangerine.\n",
      "I ordered the 6 month ice cream of the month club for my wife's birthday.  She received her first shipment today and none of the 4 ice creams that were sent matched the sheet they included explaining the ice creams (you could have bought several of the ice creams, such as butter pecan or mint chocolate chip, in your local grocery store).  When I called the 800 number I was told that occasionally they reserve the right to change the ice cream if it doesn't \"meet their quality\" guidelines.  When I told her none of the four ice creams that we received matched the overview sheet from amazingclubs, the customer service rep was rude and told me that I needed to call back and talk to someone in their \"support group\" (note: you must call before 6:00 PM EST to speak to someone in this group). I would seriously caution you to shell out more than $300 for this club.\n"
     ]
    }
   ],
   "source": [
    "for i, (_, row) in enumerate(df.iterrows()):\n",
    "    txt = row['Text']\n",
    "    if re.search(r\"\\d{1,2}:\\d{2}\", txt):\n",
    "        print(txt)\n",
    "    if i > 10000:\n",
    "        break"
   ]
  },
  {
   "cell_type": "code",
   "execution_count": 15,
   "metadata": {},
   "outputs": [],
   "source": [
    "def text_preprocess(txt):\n",
    "    txt = re.sub(r'Length:: \\d{1,2}:\\d{2} Mins', ' ', txt)\n",
    "    txt = re.sub(r'<[^>]*>', ' ', txt)\n",
    "    txt = re.sub(r',+', ',', txt)\n",
    "    txt = re.sub(r'([^\\w\\s])\\1+', ' ', txt)\n",
    "    txt = re.sub(r'(?<=\\s)[^\\w\\s]+(?:\\s+[^\\w\\s]+)+(?=\\s)', ' ', txt)\n",
    "    txt = re.sub(r'\\s+', ' ', txt)\n",
    "    txt = txt.strip()\n",
    "    txt = txt.lower()\n",
    "    return txt\n",
    "\n",
    "df['Text_Preprocessed'] = df['Text'].apply(lambda l: text_preprocess(l))\n",
    "df_preprocessed = df.drop([\"ProfileName\", \"Summary\", \"Text\", \"Text_Length\"], axis=1)\n",
    "\n",
    "df_preprocessed.to_csv(r\"D:\\ML_Projects\\Amazon-Review-Sentiment-Analysis-System\\Data\\amazon_reviews_preprocessed.csv\", index=False)"
   ]
  },
  {
   "cell_type": "code",
   "execution_count": 16,
   "metadata": {},
   "outputs": [],
   "source": [
    "df_preprocessed['Text_Length'] = df_preprocessed['Text_Preprocessed'].map(lambda l: len(l.split()))"
   ]
  },
  {
   "cell_type": "code",
   "execution_count": 17,
   "metadata": {},
   "outputs": [
    {
     "name": "stdout",
     "output_type": "stream",
     "text": [
      "Least number of words \t\t:  0\n",
      "Most number of words \t\t:  3408\n",
      "Median of number of words \t:  56.0\n",
      "Mean of number of words \t:  79.85943563851309\n"
     ]
    }
   ],
   "source": [
    "print(f\"Least number of words \\t\\t:  {df_preprocessed['Text_Length'].min()}\")\n",
    "print(f\"Most number of words \\t\\t:  {df_preprocessed['Text_Length'].max()}\")\n",
    "print(f\"Median of number of words \\t:  {df_preprocessed['Text_Length'].median()}\")\n",
    "print(f\"Mean of number of words \\t:  {df_preprocessed['Text_Length'].mean()}\")"
   ]
  },
  {
   "cell_type": "code",
   "execution_count": 27,
   "metadata": {},
   "outputs": [
    {
     "name": "stdout",
     "output_type": "stream",
     "text": [
      "Count of reviews with 'Text_Length' less than 20% of the mean:  4758\n",
      "Proportion of reviews with 'Text_Length' greater than 20% of the mean:  0.9916295762011154\n",
      "Maximum 'Text_Length' among reviews with 'Text_Length' less than 20% of the mean:  15\n",
      "Count of reviews with 'Text_Length' greater than 160% of the mean:  89996\n",
      "Proportion of reviews with 'Text_Length' greater than 160% of the mean:  0.1583238041623419\n",
      "Minimum 'Text_Length' among reviews with 'Text_Length' greater than 160% of the mean:  128\n"
     ]
    }
   ],
   "source": [
    "ln_min = 0.2\n",
    "print(\"Count of reviews with 'Text_Length' less than 20% of the mean: \",\n",
    "      len(df_preprocessed[df_preprocessed['Text_Length'] < df_preprocessed['Text_Length'].mean()*ln_min]))\n",
    "print(\"Proportion of reviews with 'Text_Length' greater than 20% of the mean: \",\n",
    "      len(df_preprocessed[df_preprocessed['Text_Length'] > df_preprocessed['Text_Length'].mean()*ln_min])/len(df_preprocessed))\n",
    "print(\"Maximum 'Text_Length' among reviews with 'Text_Length' less than 20% of the mean: \",\n",
    "      df_preprocessed[df_preprocessed['Text_Length'] < df_preprocessed['Text_Length'].mean()*ln_min]['Text_Length'].max())\n",
    "\n",
    "ln_max = 1.6\n",
    "print(\"Count of reviews with 'Text_Length' greater than 160% of the mean: \", \n",
    "      len(df_preprocessed[df_preprocessed['Text_Length'] > df_preprocessed['Text_Length'].mean()*ln_max]))\n",
    "print(\"Proportion of reviews with 'Text_Length' greater than 160% of the mean: \",\n",
    "      len(df_preprocessed[df_preprocessed['Text_Length'] > df_preprocessed['Text_Length'].mean()*ln_max])/len(df_preprocessed))\n",
    "print(\"Minimum 'Text_Length' among reviews with 'Text_Length' greater than 160% of the mean: \", \n",
    "      df_preprocessed[df_preprocessed['Text_Length'] > df_preprocessed['Text_Length'].mean()*ln_max]['Text_Length'].min())"
   ]
  },
  {
   "cell_type": "code",
   "execution_count": null,
   "metadata": {},
   "outputs": [],
   "source": [
    "df_preprocessed = df_preprocessed[(df_preprocessed['Text_Length'] > df_preprocessed['Text_Length'].mean()*0.2) &\n",
    "                                  (df_preprocessed['Text_Length'] < df_preprocessed['Text_Length'].mean()*1.60)]\n",
    "\n",
    "print(f\"Number of reviews after text preprocessing: {len(df_preprocessed)}\")"
   ]
  },
  {
   "cell_type": "code",
   "execution_count": null,
   "metadata": {},
   "outputs": [
    {
     "data": {
      "image/png": "[encoded data removed]",
      "text/plain": [
       "<Figure size 640x480 with 1 Axes>"
      ]
     },
     "metadata": {},
     "output_type": "display_data"
    }
   ],
   "source": [
    "plt.hist(df_preprocessed['Text_Length'], bins=200)\n",
    "plt.title(\"Distribution of Text Lengths\")\n",
    "plt.xlabel(\"Text Length\")\n",
    "plt.ylabel(\"Frequency\")\n",
    "plt.show()"
   ]
  },
  {
   "cell_type": "code",
   "execution_count": null,
   "metadata": {},
   "outputs": [
    {
     "name": "stdout",
     "output_type": "stream",
     "text": [
      "Number of unique words in the dataset: 55833\n"
     ]
    }
   ],
   "source": [
    "words = set(\" \".join(df_preprocessed['Text_Preprocessed']).split())\n",
    "words_with_special_chars = [word for word in words if len(re.findall(r'[^\\w\\s]', word)) > 1]\n",
    "print(f\"Number of unique words in the dataset after text preprocessing: {len(words_with_special_chars)}\")"
   ]
  },
  {
   "cell_type": "code",
   "execution_count": null,
   "metadata": {},
   "outputs": [],
   "source": []
  }
 ],
 "metadata": {
  "kernelspec": {
   "display_name": "base",
   "language": "python",
   "name": "python3"
  },
  "language_info": {
   "codemirror_mode": {
    "name": "ipython",
    "version": 3
   },
   "file_extension": ".py",
   "mimetype": "text/x-python",
   "name": "python",
   "nbconvert_exporter": "python",
   "pygments_lexer": "ipython3",
   "version": "3.11.5"
  }
 },
 "nbformat": 4,
 "nbformat_minor": 2
}
